{
 "cells": [
  {
   "cell_type": "code",
   "execution_count": 1,
   "id": "407cb038",
   "metadata": {},
   "outputs": [],
   "source": [
    "import requests\n",
    "import pandas as pd\n"
   ]
  },
  {
   "cell_type": "code",
   "execution_count": 2,
   "id": "c9d89bda",
   "metadata": {},
   "outputs": [],
   "source": [
    "url = \"https://api.afl.com.au/statspro/playersStats/seasons/CD_S2024014?includeBenchmarks=false\"\n",
    "\n",
    "headers = {\n",
    "    \"User-Agent\": \"Mozilla/5.0 (Windows NT 10.0; Win64; x64; rv:134.0) Gecko/20100101 Firefox/134.0\",\n",
    "    \"Accept\": \"*/*\",\n",
    "    \"Accept-Language\": \"en-US,en;q=0.5\",\n",
    "    \"Accept-Encoding\": \"gzip, deflate, br, zstd\",\n",
    "    \"Referer\": \"https://www.afl.com.au/\",\n",
    "    \"x-media-mis-token\": \"1e9a1b82cda6000e08344fe6a16f3c83\",\n",
    "    \"Origin\": \"https://www.afl.com.au\",\n",
    "    \"Connection\": \"keep-alive\",\n",
    "    \"Sec-Fetch-Dest\": \"empty\",\n",
    "    \"Sec-Fetch-Mode\": \"cors\",\n",
    "    \"Sec-Fetch-Site\": \"same-site\",\n",
    "    \"If-None-Match\": 'W/\"26d926cf325600c8da4afe62fe0dc41c\"',\n",
    "    \"Priority\": \"u=4\",\n",
    "    \"TE\": \"trailers\",\n",
    "}\n",
    "\n",
    "response = requests.get(url, headers=headers)\n",
    "\n"
   ]
  },
  {
   "cell_type": "code",
   "execution_count": 3,
   "id": "ba89c6c0",
   "metadata": {},
   "outputs": [],
   "source": [
    "import json\n",
    "playerdata = response.json()"
   ]
  },
  {
   "cell_type": "code",
   "execution_count": 4,
   "id": "7ac10cf7",
   "metadata": {},
   "outputs": [
    {
     "data": {
      "text/plain": [
       "dict_keys(['search', 'totalResults', 'players'])"
      ]
     },
     "execution_count": 4,
     "metadata": {},
     "output_type": "execute_result"
    }
   ],
   "source": [
    "playerdata.keys()"
   ]
  },
  {
   "cell_type": "code",
   "execution_count": 5,
   "id": "b2251037",
   "metadata": {},
   "outputs": [
    {
     "data": {
      "text/plain": [
       "807"
      ]
     },
     "execution_count": 5,
     "metadata": {},
     "output_type": "execute_result"
    }
   ],
   "source": [
    "playerdata['totalResults']"
   ]
  },
  {
   "cell_type": "code",
   "execution_count": 6,
   "id": "fcc1eda0",
   "metadata": {},
   "outputs": [
    {
     "data": {
      "text/plain": [
       "{'playerId': 'CD_I1000061',\n",
       " 'playerDetails': {'givenName': 'Callum',\n",
       "  'surname': 'Coleman-Jones',\n",
       "  'age': 25,\n",
       "  'heightCm': 200,\n",
       "  'weightKg': 0,\n",
       "  'jumperNumber': 21,\n",
       "  'kickingFoot': 'RIGHT',\n",
       "  'stateOfOrigin': 'SA',\n",
       "  'draftYear': '2017',\n",
       "  'debutYear': '2019',\n",
       "  'recruitedFrom': 'Unley (SA)/Scotch College (SA)/Sturt (SANFL)/Richmond',\n",
       "  'draftPosition': 20,\n",
       "  'draftType': 'nationalDraft',\n",
       "  'position': 'KEY_FORWARD',\n",
       "  'bio': None,\n",
       "  'aflAwards': None,\n",
       "  'photoURL': 'https://s.afl.com.au/staticfile/AFL Tenant/AFL/Players/ChampIDImages/AFL/2024014/1000061.png?im=Scale,width=0.6,height=0.6',\n",
       "  'dateOfBirth': '13/06/1999'},\n",
       " 'team': {'teamId': 'CD_T100',\n",
       "  'teamAbbr': 'NMFC',\n",
       "  'teamName': 'North Melbourne',\n",
       "  'teamNickname': 'Kangaroos'},\n",
       " 'gamesPlayed': 3.0,\n",
       " 'totals': {'matchesPlayed': 3.0,\n",
       "  'timeOnGroundPercentage': 48.6,\n",
       "  'behinds': 0.0,\n",
       "  'bounces': 0.0,\n",
       "  'centreBounceAttendances': 10.0,\n",
       "  'centreClearances': 0.0,\n",
       "  'clangers': 2.0,\n",
       "  'contestDefLosses': 0.0,\n",
       "  'contestDefLossPercentage': 0.0,\n",
       "  'contestDefOneOnOnes': 0.0,\n",
       "  'contestedMarks': 2.0,\n",
       "  'contestedPossessionRate': 47.6,\n",
       "  'contestedPossessions': 10.0,\n",
       "  'contestOffOneOnOnes': 4.0,\n",
       "  'contestOffWins': 2.0,\n",
       "  'contestOffWinsPercentage': 50.0,\n",
       "  'defHalfPressureActs': 2.0,\n",
       "  'disposalEfficiency': 83.3,\n",
       "  'disposals': 18.0,\n",
       "  'dreamTeamPoints': 78.0,\n",
       "  'effectiveDisposals': 15.0,\n",
       "  'effectiveKicks': 6.0,\n",
       "  'f50GroundBallGets': 1.0,\n",
       "  'freesAgainst': 1.0,\n",
       "  'freesFor': 3.0,\n",
       "  'goalAccuracy': 0.0,\n",
       "  'goalAssists': 2.0,\n",
       "  'goals': 0.0,\n",
       "  'groundBallGets': 4.0,\n",
       "  'handballs': 12.0,\n",
       "  'hitouts': 11.0,\n",
       "  'hitoutsToAdvantage': 3.0,\n",
       "  'hitoutToAdvantageRate': 27.3,\n",
       "  'hitoutWinPercentage': 44.0,\n",
       "  'inside50s': 2.0,\n",
       "  'interceptMarks': 1.0,\n",
       "  'intercepts': 3.0,\n",
       "  'kickEfficiency': 100.0,\n",
       "  'kickins': 0.0,\n",
       "  'kickinsPlayon': 0.0,\n",
       "  'kicks': 6.0,\n",
       "  'kickToHandballRatio': 0.5,\n",
       "  'marks': 7.0,\n",
       "  'marksInside50': 0.0,\n",
       "  'marksOnLead': 1.0,\n",
       "  'metresGained': 145.0,\n",
       "  'onePercenters': 3.0,\n",
       "  'pressureActs': 10.0,\n",
       "  'ranking': 573.0,\n",
       "  'ratingPoints': 57.6,\n",
       "  'rebound50s': 0.0,\n",
       "  'ruckContests': 25.0,\n",
       "  'scoreInvolvements': 8.0,\n",
       "  'scoreLaunches': 3.0,\n",
       "  'shotsAtGoal': 0.0,\n",
       "  'spoils': 1.0,\n",
       "  'stoppageClearances': 0.0,\n",
       "  'tackles': 1.0,\n",
       "  'tacklesInside50': 1.0,\n",
       "  'totalClearances': 0.0,\n",
       "  'totalPossessions': 21.0,\n",
       "  'turnovers': 5.0,\n",
       "  'uncontestedPossessions': 11.0},\n",
       " 'averages': {'matchesPlayed': 3.0,\n",
       "  'timeOnGroundPercentage': 48.6,\n",
       "  'behinds': 0.0,\n",
       "  'bounces': 0.0,\n",
       "  'centreBounceAttendances': 10.0,\n",
       "  'centreClearances': 0.0,\n",
       "  'clangers': 0.7,\n",
       "  'contestDefLosses': 0.0,\n",
       "  'contestDefLossPercentage': 0.0,\n",
       "  'contestDefOneOnOnes': 0.0,\n",
       "  'contestedMarks': 0.7,\n",
       "  'contestedPossessionRate': 47.6,\n",
       "  'contestedPossessions': 3.3,\n",
       "  'contestOffOneOnOnes': 1.3,\n",
       "  'contestOffWins': 0.7,\n",
       "  'contestOffWinsPercentage': 50.0,\n",
       "  'defHalfPressureActs': 0.7,\n",
       "  'disposalEfficiency': 83.3,\n",
       "  'disposals': 6.0,\n",
       "  'dreamTeamPoints': 26.0,\n",
       "  'effectiveDisposals': 5.0,\n",
       "  'effectiveKicks': 2.0,\n",
       "  'f50GroundBallGets': 0.3,\n",
       "  'freesAgainst': 0.3,\n",
       "  'freesFor': 1.0,\n",
       "  'goalAccuracy': 0.0,\n",
       "  'goalAssists': 0.7,\n",
       "  'goals': 0.0,\n",
       "  'groundBallGets': 1.3,\n",
       "  'handballs': 4.0,\n",
       "  'hitouts': 3.7,\n",
       "  'hitoutsToAdvantage': 1.0,\n",
       "  'hitoutToAdvantageRate': 27.3,\n",
       "  'hitoutWinPercentage': 44.0,\n",
       "  'inside50s': 0.7,\n",
       "  'interceptMarks': 0.3,\n",
       "  'intercepts': 1.0,\n",
       "  'kickEfficiency': 100.0,\n",
       "  'kickins': 0.0,\n",
       "  'kickinsPlayon': 0.0,\n",
       "  'kicks': 2.0,\n",
       "  'kickToHandballRatio': 0.5,\n",
       "  'marks': 2.3,\n",
       "  'marksInside50': 0.0,\n",
       "  'marksOnLead': 0.3,\n",
       "  'metresGained': 48.6,\n",
       "  'onePercenters': 1.0,\n",
       "  'pressureActs': 3.3,\n",
       "  'ratingPoints': 57.6,\n",
       "  'rebound50s': 0.0,\n",
       "  'ruckContests': 8.3,\n",
       "  'scoreInvolvements': 2.7,\n",
       "  'scoreLaunches': 1.0,\n",
       "  'shotsAtGoal': 0.0,\n",
       "  'spoils': 0.3,\n",
       "  'stoppageClearances': 0.0,\n",
       "  'tackles': 0.3,\n",
       "  'tacklesInside50': 0.3,\n",
       "  'totalClearances': 0.0,\n",
       "  'totalPossessions': 7.0,\n",
       "  'turnovers': 1.7,\n",
       "  'uncontestedPossessions': 3.7}}"
      ]
     },
     "execution_count": 6,
     "metadata": {},
     "output_type": "execute_result"
    }
   ],
   "source": [
    "playerdata['players'][0]"
   ]
  },
  {
   "cell_type": "code",
   "execution_count": 7,
   "id": "3715600b",
   "metadata": {},
   "outputs": [],
   "source": [
    "df = pd.json_normalize(playerdata['players'])"
   ]
  },
  {
   "cell_type": "code",
   "execution_count": 8,
   "id": "42d4dbf6",
   "metadata": {},
   "outputs": [
    {
     "name": "stdout",
     "output_type": "stream",
     "text": [
      "      playerId  gamesPlayed playerDetails.givenName playerDetails.surname  \\\n",
      "0  CD_I1000061          3.0                  Callum         Coleman-Jones   \n",
      "1  CD_I1000068          7.0                   Chris               Burgess   \n",
      "2  CD_I1000072         20.0                    John                 Noble   \n",
      "3  CD_I1000223         18.0                    Liam                 Baker   \n",
      "4  CD_I1000860         20.0                  Lachie               Schultz   \n",
      "\n",
      "   playerDetails.age  playerDetails.heightCm  playerDetails.weightKg  \\\n",
      "0                 25                     200                       0   \n",
      "1                 29                     193                       0   \n",
      "2                 27                     180                       0   \n",
      "3                 27                     173                       0   \n",
      "4                 27                     178                       0   \n",
      "\n",
      "   playerDetails.jumperNumber playerDetails.kickingFoot  \\\n",
      "0                          21                     RIGHT   \n",
      "1                          21                     RIGHT   \n",
      "2                           9                     RIGHT   \n",
      "3                           7                     RIGHT   \n",
      "4                           8                     RIGHT   \n",
      "\n",
      "  playerDetails.stateOfOrigin  ... averages.scoreLaunches  \\\n",
      "0                          SA  ...                    1.0   \n",
      "1                          SA  ...                    0.4   \n",
      "2                          SA  ...                    1.1   \n",
      "3                          WA  ...                    1.8   \n",
      "4                         VIC  ...                    0.7   \n",
      "\n",
      "  averages.shotsAtGoal averages.spoils  averages.stoppageClearances  \\\n",
      "0                  0.0             0.3                          0.0   \n",
      "1                  2.1             0.9                          0.1   \n",
      "2                  0.2             1.1                          0.6   \n",
      "3                  1.7             0.4                          2.0   \n",
      "4                  2.7             0.8                          0.7   \n",
      "\n",
      "  averages.tackles averages.tacklesInside50 averages.totalClearances  \\\n",
      "0              0.3                      0.3                      0.0   \n",
      "1              1.3                      0.3                      0.3   \n",
      "2              2.7                      0.2                      0.7   \n",
      "3              3.8                      0.7                      3.1   \n",
      "4              3.8                      1.7                      0.8   \n",
      "\n",
      "  averages.totalPossessions averages.turnovers averages.uncontestedPossessions  \n",
      "0                       7.0                1.7                             3.7  \n",
      "1                       7.4                1.6                             4.0  \n",
      "2                      17.6                3.5                            14.0  \n",
      "3                      19.9                4.3                            11.5  \n",
      "4                      12.0                2.8                             7.9  \n",
      "\n",
      "[5 rows x 149 columns]\n"
     ]
    }
   ],
   "source": [
    "print(df.head())"
   ]
  },
  {
   "cell_type": "code",
   "execution_count": 9,
   "id": "62abe11f",
   "metadata": {},
   "outputs": [],
   "source": [
    "save_path = r\"C:\\Users\\15184\\Desktop\\PSU Capstone\\Webscrape\\playerdata.csv\"\n",
    "df.to_csv(save_path, index=False)"
   ]
  },
  {
   "cell_type": "code",
   "execution_count": null,
   "id": "41d2bc68",
   "metadata": {},
   "outputs": [],
   "source": []
  }
 ],
 "metadata": {
  "kernelspec": {
   "display_name": "Python 3 (ipykernel)",
   "language": "python",
   "name": "python3"
  },
  "language_info": {
   "codemirror_mode": {
    "name": "ipython",
    "version": 3
   },
   "file_extension": ".py",
   "mimetype": "text/x-python",
   "name": "python",
   "nbconvert_exporter": "python",
   "pygments_lexer": "ipython3",
   "version": "3.9.12"
  }
 },
 "nbformat": 4,
 "nbformat_minor": 5
}
